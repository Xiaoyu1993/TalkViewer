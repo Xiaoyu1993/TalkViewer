{
 "cells": [
  {
   "cell_type": "code",
   "execution_count": 1,
   "metadata": {},
   "outputs": [
    {
     "name": "stderr",
     "output_type": "stream",
     "text": [
      "* Owlready2 * Warning: optimized Cython parser module 'owlready2_optimized' is not available, defaulting to slower Python implementation\n",
      "* Owlready2 * WARNING: http://dbpedia.org/ontology/senator belongs to more than one entity types (e.g. Class, Property, Individual): [owl.ObjectProperty, dbpedia.MemberOfParliament, DUL.sameSettingAs]; I'm trying to fix it...\n",
      "* Owlready2 * WARNING: http://dbpedia.org/ontology/politicGovernmentDepartment belongs to more than one entity types (e.g. Class, Property, Individual): [owl.ObjectProperty, dbpedia.Department, DUL.hasPart]; I'm trying to fix it...\n",
      "* Owlready2 * WARNING: http://dbpedia.org/ontology/productShape belongs to more than one entity types (e.g. Class, Property, Individual): [owl.DataProperty, DUL.hasQuality]; I'm trying to fix it...\n",
      "* Owlready2 * WARNING: http://dbpedia.org/ontology/latinName belongs to more than one entity types (e.g. Class, Property, Individual): [owl.DataProperty, dbpedia.Name]; I'm trying to fix it...\n",
      "* Owlready2 * WARNING: http://dbpedia.org/ontology/iso6391Code belongs to more than one entity types (e.g. Class, Property, Individual): [owl.DataProperty, dbpedia.LanguageCode]; I'm trying to fix it...\n",
      "* Owlready2 * WARNING: http://dbpedia.org/ontology/iso6393Code belongs to more than one entity types (e.g. Class, Property, Individual): [owl.DataProperty, dbpedia.LanguageCode]; I'm trying to fix it...\n",
      "* Owlready2 * WARNING: http://dbpedia.org/ontology/iso6392Code belongs to more than one entity types (e.g. Class, Property, Individual): [owl.DataProperty, dbpedia.LanguageCode]; I'm trying to fix it...\n",
      "* Owlready2 * WARNING: http://dbpedia.org/ontology/ingredientName belongs to more than one entity types (e.g. Class, Property, Individual): [owl.DataProperty, DUL.hasPart]; I'm trying to fix it...\n",
      "* Owlready2 * WARNING: http://dbpedia.org/ontology/greekName belongs to more than one entity types (e.g. Class, Property, Individual): [owl.DataProperty, dbpedia.Name]; I'm trying to fix it...\n"
     ]
    },
    {
     "name": "stdout",
     "output_type": "stream",
     "text": [
      "Total sentences: 46\n",
      "Pre-processing...\n",
      "\n",
      "0. Original Sentence:\n",
      "Nurses are females\n",
      "\n",
      "Stopwords:\n",
      "are, \n",
      "\n",
      "Triple to Query: \n",
      "Nurses - be - females\n",
      "\n",
      "For subject \"Nurses\":\n",
      "0: Nursing\n",
      "1: Breastfeeding\n",
      "2: Registered nurse\n",
      "3: Health care provider\n",
      "4: Wet nurse\n",
      "Which one is closer to what you mean? (type \"-1\" if nothing seems correct) 2\n",
      "\n",
      "For predicate \"type\":\n",
      "0: Types of inhabited localities in Russia\n",
      "1: Type species\n",
      "2: Köppen climate classification\n",
      "3: Holotype\n",
      "4: Rock (geology)\n",
      "Which one is closer to what you mean? (type \"-1\" if nothing seems correct) 1\n",
      "\n",
      "For object \"females\":\n",
      "0: Sexual dimorphism\n",
      "1: Female\n",
      "2: Women in India\n",
      "3: Misogyny\n",
      "4: Sexual maturity\n",
      "Which one is closer to what you mean? (type \"-1\" if nothing seems correct) 1\n",
      "\n",
      "\n",
      "subject: http://dbpedia.org/resource/Registered_nurse\n",
      "predicate: http://dbpedia.org/resource/Type_species\n",
      "object: http://dbpedia.org/resource/Female\n",
      "\n",
      "Find 2 components:\n",
      "?sub\n",
      "?pred\n",
      "?obj\n"
     ]
    }
   ],
   "source": [
    "import server\n",
    "server.main_loop()"
   ]
  },
  {
   "cell_type": "code",
   "execution_count": null,
   "metadata": {},
   "outputs": [],
   "source": []
  }
 ],
 "metadata": {
  "kernelspec": {
   "display_name": "Python 3",
   "language": "python",
   "name": "python3"
  },
  "language_info": {
   "codemirror_mode": {
    "name": "ipython",
    "version": 3
   },
   "file_extension": ".py",
   "mimetype": "text/x-python",
   "name": "python",
   "nbconvert_exporter": "python",
   "pygments_lexer": "ipython3",
   "version": "3.6.1"
  }
 },
 "nbformat": 4,
 "nbformat_minor": 2
}
